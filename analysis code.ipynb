## 1. Importing Required Libraries
import pandas as pd 
import numpy as np 
import seaborn as sns 
import matplotlib.pyplot as plt

## 2. Loading the Dataset
data = pd.read_csv(r"C:\Users\hkoli\Downloads\bank.csv")
data

## 3. Copying Data for Modification
df = data.copy()
df.head()

## 4. Renaming Columns for Better Understanding
df.rename(columns={
    "Marital": "Marital_statuts",
    "Pdays": "Day_sinces_last_contact",
    "Poutcome": "Previous_outcome",
    "Y": "Customer_subscription"
}, inplace=True)
df.head(1)

## 5. Displaying Basic Information
df.describe()
df.info()
df.dtypes
-----------------------------------------------------------------------------------------------------------------------------------------------------------------------------------------------------------------------------------------------
## 6. Data Cleaning

# Converting categorical columns
df["Job"] = df["Job"].astype("category")
df["Marital_statuts"] = df["Marital_statuts"].astype("category")
df["Education"] = df["Education"].astype("category")
df["Default"] = df["Default"].astype("category")
df["Housing"] = df["Housing"].astype("category")
df["Loan"] = df["Loan"].astype("category")
df["Contact"] = df["Contact"].astype("category")
df["Month"] = df["Month"].astype("category")
df["Previous_outcome"] = df["Previous_outcome"].astype("category")
df["Customer_subscription"] = df["Customer_subscription"].astype("category")

# Checking unique values
df.nunique()

# Checking for duplicates
df.duplicated()
df.duplicated().sum()

# Checking for missing values
df.isnull().sum()

# Handling missing values
df["Balance"].mean()
df["Balance"] = df["Balance"].fillna(df["Balance"].mean())

df["Campaign"] = df["Campaign"].fillna(df["Campaign"].mode()[0])
-----------------------------------------------------------------------------------------------------------------------------------------------------------------------------------------------------------------------------------------------
## 7. Data Visualization

## 1. How many married individuals are unemployed?
married_unemployed = df[(df["Marital_statuts"] == "married") & (df["Job"] == "unemployed")]

# Counting the married unemployed individuals
count_married_unemploye = married_unemployed.shape[0]
count_married_unemploye

size = count_married_unemploye, df.shape[0] - count_married_unemploye

plt.pie(size, autopct="%1.1f%%", startangle=90, shadow=True, 
        colors=['#ff9999','#66b3ff','#99ff99','#ffcc99'], 
        labels=["Married & unemployed", "Others"])
plt.title("Proportion of Married Unemployed")
plt.tight_layout()
plt.savefig('Proportion_of_married_unemployed_piechart.png', dpi=300, bbox_inches='tight')
plt.show()
-----------------------------------------------------------------------------------------------------------------------------------------------------------------------------------------------------------------------------------------------
## 2. What is the average age of individuals who subscribed to a term deposit versus those who did not?

avg_age_of_sub = df[df["Customer_subscription"] == "yes"]["Age"].mean()
avg_age_of_not_sub = df[df["Customer_subscription"] == "no"]["Age"].mean()

ages = [avg_age_of_sub, avg_age_of_not_sub]
labels = ["Subscribers", "Not subscribers"]
plt.pie(ages, labels=labels, startangle=45, 
        colors=['#ff9999','#66b3ff','#99ff99','#ffcc99'], autopct="%1.1f%%") 
plt.title("Average Age of Individuals Who Subscribed to a Term Deposit")
plt.savefig('average_age_of_subscribers_vs_non_subscribers_piechart.png', dpi=300, bbox_inches='tight')
plt.show()
-----------------------------------------------------------------------------------------------------------------------------------------------------------------------------------------------------------------------------------------------
##3. How does the average balance vary across different contact months?
avg_balance_per_month = df.groupby("Month")["Balance"].mean()
avg_balance_per_month

avg_balance_per_month.plot(kind="barh", color=['#ff9999','#66b3ff','#99ff99','#ffcc99'])
plt.title("Average Balance Across Different Contact Months")
plt.savefig('average_balance_across_different_contact_months.png', dpi=300, bbox_inches='tight')
plt.show()
-----------------------------------------------------------------------------------------------------------------------------------------------------------------------------------------------------------------------------------------------
## 4. How does the average duration of customer calls vary by month?
avg_duration_per_month = df.groupby("Month")["Duration"].mean()
avg_duration_per_month

avg_duration_per_month.plot(kind="line", marker="*", linestyle="-", linewidth=1, 
                            color=['#ff9999', '#66b3ff', '#99ff99', '#ffcc99'])
plt.title("Average Duration of Customer Calls by Month")
plt.ylabel("Duration (Seconds)")
plt.xlabel("Months")
plt.grid()
plt.savefig('average_duration_of_customer_calls_by_month.png', dpi=300, bbox_inches='tight')
plt.show()
-----------------------------------------------------------------------------------------------------------------------------------------------------------------------------------------------------------------------------------------------
## What is the distribution of marital status (married/single/divorced) across different education levels?
marital_status_education = df.groupby(["Education", "Marital_statuts"]).size().unstack()
marital_status_education

marital_status_education.plot(kind="bar", stacked=True, color=['#ff9999', '#66b3ff', '#99ff99', '#ffcc99'])
plt.title("Distribution of Marital Status Across Education Levels", fontweight="bold")
plt.savefig('distribution_of_marital_status_across_education_levels.png', dpi=300, bbox_inches='tight')
plt.show()
-----------------------------------------------------------------------------------------------------------------------------------------------------------------------------------------------------------------------------------------------
##  Marital Status vs. Housing Ownership
Marital_statuts_have_house = df.groupby(["Marital_statuts", "Housing"]).size().unstack()
Marital_statuts_have_house

Marital_statuts_have_house.plot(kind="bar", color=['#ff9999', '#66b3ff', '#99ff99', '#ffcc99'])
plt.title("Marital Status vs. Housing Ownership", fontweight="bold")
plt.savefig('marital_status_vs_housing_ownership.png', dpi=300, bbox_inches='tight')
plt.show()


  -----------------------------------------------------------------------------------------------------------------------------------------------------------------------------------------------------------------------------------------------

  
